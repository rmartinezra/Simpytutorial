{
  "cells": [
    {
      "cell_type": "markdown",
      "metadata": {
        "id": "view-in-github",
        "colab_type": "text"
      },
      "source": [
        "<a href=\"https://colab.research.google.com/github/rmartinezra/Simpytutorial/blob/main/SymPy_Tutorial_Desde_Cero.ipynb\" target=\"_parent\"><img src=\"https://colab.research.google.com/assets/colab-badge.svg\" alt=\"Open In Colab\"/></a>"
      ]
    },
    {
      "cell_type": "markdown",
      "id": "56f1d17f",
      "metadata": {
        "id": "56f1d17f"
      },
      "source": [
        "\n",
        "\n",
        "# Tutorial de **SymPy** desde cero\n",
        "\n",
        "Este cuaderno guía, paso a paso, el uso de **SymPy** para **cálculo simbólico** en Python.\n",
        "Incluye desde lo básico (símbolos y expresiones) hasta temas intermedios (cálculo, álgebra lineal,\n",
        "ecuaciones diferenciales, series, transformadas, impresión LaTeX, etc.).\n",
        "\n",
        "> Requisitos: Python 3.10+ y `sympy` instalado. Si no lo tienes, ejecuta la celda de instalación.\n"
      ]
    },
    {
      "cell_type": "code",
      "execution_count": 63,
      "id": "afe24c95",
      "metadata": {
        "id": "afe24c95"
      },
      "outputs": [],
      "source": [
        "\n",
        "# (Opcional) Instalar SymPy si aún no lo tienes.\n",
        "# Descomenta la siguiente línea en tu entorno local si es necesario.\n",
        "# !pip install sympy\n"
      ]
    },
    {
      "cell_type": "code",
      "execution_count": 64,
      "id": "1003028c",
      "metadata": {
        "colab": {
          "base_uri": "https://localhost:8080/",
          "height": 36
        },
        "id": "1003028c",
        "outputId": "423a4dc9-957e-4557-ac69-e0625c6d8492"
      },
      "outputs": [
        {
          "output_type": "execute_result",
          "data": {
            "text/plain": [
              "'1.13.3'"
            ],
            "application/vnd.google.colaboratory.intrinsic+json": {
              "type": "string"
            }
          },
          "metadata": {},
          "execution_count": 64
        }
      ],
      "source": [
        "\n",
        "import sympy as sp\n",
        "sp.__version__\n"
      ]
    },
    {
      "cell_type": "markdown",
      "id": "f8391e1a",
      "metadata": {
        "id": "f8391e1a"
      },
      "source": [
        "\n",
        "## 1. Conceptos básicos: símbolos, expresiones y evaluación\n",
        "\n",
        "- **Símbolos**: variables algebraicas abstractas (`x`, `y`, `a`, etc.).  \n",
        "- **Expresiones**: combinaciones de símbolos, números y operaciones.  \n",
        "- **Evaluación**: sustitución, simplificación y conversión a valores numéricos.\n"
      ]
    },
    {
      "cell_type": "code",
      "execution_count": 65,
      "id": "deaef287",
      "metadata": {
        "colab": {
          "base_uri": "https://localhost:8080/",
          "height": 58
        },
        "id": "deaef287",
        "outputId": "8c0a9380-6171-4d2b-c527-086e8bd4a994"
      },
      "outputs": [
        {
          "output_type": "execute_result",
          "data": {
            "text/plain": [
              "⎛ 2             y          1⎞\n",
              "⎜x  + 2⋅x + 1, ℯ ⋅sin(x) + ─⎟\n",
              "⎝                          3⎠"
            ],
            "text/latex": "$\\displaystyle \\left( x^{2} + 2 x + 1, \\  e^{y} \\sin{\\left(x \\right)} + \\frac{1}{3}\\right)$"
          },
          "metadata": {},
          "execution_count": 65
        }
      ],
      "source": [
        "\n",
        "# Crear símbolos\n",
        "x, y, a, b = sp.symbols('x y a b')\n",
        "alpha, beta = sp.symbols('alpha beta', real=True)\n",
        "\n",
        "# Crear expresiones\n",
        "expr1 = x**2 + 2*x + 1\n",
        "expr2 = sp.sin(x) * sp.exp(y) + sp.Rational(1, 3)\n",
        "\n",
        "expr1, expr2\n"
      ]
    },
    {
      "cell_type": "code",
      "execution_count": 66,
      "id": "01a2c3f4",
      "metadata": {
        "colab": {
          "base_uri": "https://localhost:8080/",
          "height": 47
        },
        "id": "01a2c3f4",
        "outputId": "26d31a39-327b-4c21-b1db-2afbef70aedd"
      },
      "outputs": [
        {
          "output_type": "execute_result",
          "data": {
            "text/plain": [
              "⎛       3                                                                      ↪\n",
              "⎝(x + 1) , 27, 3.14159265358979, 1.4142135623730950488016887242096980785696718 ↪\n",
              "\n",
              "↪       ⎞\n",
              "↪ 753769⎠"
            ],
            "text/latex": "$\\displaystyle \\left( \\left(x + 1\\right)^{3}, \\  27, \\  3.14159265358979, \\  1.4142135623730950488016887242096980785696718753769\\right)$"
          },
          "metadata": {},
          "execution_count": 66
        }
      ],
      "source": [
        "\n",
        "# Sustitución (subs) y evaluación numérica (N o .evalf())\n",
        "expr = (x + 1)**3\n",
        "expr_sub = expr.subs(x, 2)        # Sustituye x=2\n",
        "expr_num = sp.N(sp.pi)            # Aproxima pi\n",
        "expr_evalf = (sp.sqrt(2)).evalf(50)  # Precisión con 50 dígitos\n",
        "\n",
        "expr, expr_sub, expr_num, expr_evalf\n"
      ]
    },
    {
      "cell_type": "code",
      "execution_count": 67,
      "id": "cecce4ff",
      "metadata": {
        "colab": {
          "base_uri": "https://localhost:8080/",
          "height": 39
        },
        "id": "cecce4ff",
        "outputId": "b52e8467-2e92-44a6-d66a-d8a45c241756"
      },
      "outputs": [
        {
          "output_type": "execute_result",
          "data": {
            "text/plain": [
              "⎛ 3      2                    ⎛ 2        ⎞      ⎞\n",
              "⎝x  + 3⋅x  + 3⋅x + 1, (x - 1)⋅⎝x  + x + 1⎠, 1, 1⎠"
            ],
            "text/latex": "$\\displaystyle \\left( x^{3} + 3 x^{2} + 3 x + 1, \\  \\left(x - 1\\right) \\left(x^{2} + x + 1\\right), \\  1, \\  1\\right)$"
          },
          "metadata": {},
          "execution_count": 67
        }
      ],
      "source": [
        "\n",
        "# Simplificaciones comunes\n",
        "expr_expand = sp.expand((x+1)**3)             # expandir\n",
        "expr_factor = sp.factor(x**3 - 1)             # factorizar\n",
        "expr_simplify = sp.simplify(sp.sin(x)**2 + sp.cos(x)**2)\n",
        "expr_trig = sp.trigsimp(sp.sin(x)**2 + sp.cos(x)**2)\n",
        "\n",
        "expr_expand, expr_factor, expr_simplify, expr_trig\n"
      ]
    },
    {
      "cell_type": "markdown",
      "id": "8118d7c1",
      "metadata": {
        "id": "8118d7c1"
      },
      "source": [
        "\n",
        "### Impresión bonita y LaTeX\n",
        "\n",
        "- `sp.pretty` imprime en texto legible.  \n",
        "- `sp.latex` genera código LaTeX.  \n"
      ]
    },
    {
      "cell_type": "code",
      "execution_count": 68,
      "id": "20e1fdd6",
      "metadata": {
        "colab": {
          "base_uri": "https://localhost:8080/",
          "height": 70
        },
        "id": "20e1fdd6",
        "outputId": "8239c56e-3409-4de8-bc64-5971b21567ca"
      },
      "outputs": [
        {
          "output_type": "stream",
          "name": "stdout",
          "text": [
            "   2         2   \n",
            "sin (x) + cos (x)\n"
          ]
        },
        {
          "output_type": "execute_result",
          "data": {
            "text/plain": [
              "'\\\\sin^{2}{\\\\left(x \\\\right)} + \\\\cos^{2}{\\\\left(x \\\\right)}'"
            ],
            "application/vnd.google.colaboratory.intrinsic+json": {
              "type": "string"
            }
          },
          "metadata": {},
          "execution_count": 68
        }
      ],
      "source": [
        "\n",
        "expr = sp.sin(x)**2 + sp.cos(x)**2\n",
        "print(sp.pretty(expr))\n",
        "sp.latex(expr)\n"
      ]
    },
    {
      "cell_type": "code",
      "source": [
        "from sympy import sin, cos, symbols, latex\n",
        "from IPython.display import display, Math\n",
        "\n",
        "x = symbols('x')\n",
        "expr = sin(x)**2 + cos(x)**2\n",
        "\n",
        "display(Math(latex(expr)))\n"
      ],
      "metadata": {
        "colab": {
          "base_uri": "https://localhost:8080/",
          "height": 39
        },
        "id": "dwF3cs7ciewH",
        "outputId": "88af2125-2756-4f9d-fc8a-9af7e09365a8"
      },
      "id": "dwF3cs7ciewH",
      "execution_count": 69,
      "outputs": [
        {
          "output_type": "display_data",
          "data": {
            "text/plain": [
              "<IPython.core.display.Math object>"
            ],
            "text/latex": "$\\displaystyle \\sin^{2}{\\left(x \\right)} + \\cos^{2}{\\left(x \\right)}$"
          },
          "metadata": {}
        }
      ]
    },
    {
      "cell_type": "code",
      "source": [
        "sp.init_printing(use_latex=True)\n",
        "\n",
        "x = sp.symbols('x')\n",
        "expr = sp.sin(x)**2 + sp.cos(x)**2\n",
        "expr"
      ],
      "metadata": {
        "colab": {
          "base_uri": "https://localhost:8080/",
          "height": 39
        },
        "id": "s6TFqHf5ifUg",
        "outputId": "baac34eb-1bd2-4292-da00-6c2e5c74d666"
      },
      "id": "s6TFqHf5ifUg",
      "execution_count": 70,
      "outputs": [
        {
          "output_type": "execute_result",
          "data": {
            "text/plain": [
              "   2         2   \n",
              "sin (x) + cos (x)"
            ],
            "text/latex": "$\\displaystyle \\sin^{2}{\\left(x \\right)} + \\cos^{2}{\\left(x \\right)}$"
          },
          "metadata": {},
          "execution_count": 70
        }
      ]
    },
    {
      "cell_type": "markdown",
      "id": "262dead2",
      "metadata": {
        "id": "262dead2"
      },
      "source": [
        "\n",
        "## 2. Suposiciones (assumptions)\n",
        "\n",
        "Las **suposiciones** sobre símbolos (real, positivo, entero, etc.) guían a SymPy\n",
        "en simplificaciones y soluciones.\n"
      ]
    },
    {
      "cell_type": "code",
      "execution_count": 71,
      "id": "1b7d161e",
      "metadata": {
        "colab": {
          "base_uri": "https://localhost:8080/",
          "height": 39
        },
        "id": "1b7d161e",
        "outputId": "88d74dd7-643c-47a8-88f5-f851ba20d212"
      },
      "outputs": [
        {
          "output_type": "execute_result",
          "data": {
            "text/plain": [
              "p"
            ],
            "text/latex": "$\\displaystyle p$"
          },
          "metadata": {},
          "execution_count": 71
        }
      ],
      "source": [
        "\n",
        "p = sp.symbols('p', positive=True)\n",
        "q = sp.symbols('q', real=True)\n",
        "r = sp.symbols('r', integer=True)\n",
        "\n",
        "test_expr = sp.sqrt(p**2)\n",
        "sp.simplify(test_expr)  # Con p > 0, sqrt(p**2) -> p\n"
      ]
    },
    {
      "cell_type": "markdown",
      "id": "29749ff7",
      "metadata": {
        "id": "29749ff7"
      },
      "source": [
        "\n",
        "## 3. Polinomios: expansión, factorización y raíces\n",
        "\n",
        "SymPy maneja polinomios de manera nativa: factoriza, expande, halla raíces y divisiones.\n"
      ]
    },
    {
      "cell_type": "code",
      "execution_count": 72,
      "id": "ef774dec",
      "metadata": {
        "colab": {
          "base_uri": "https://localhost:8080/",
          "height": 47
        },
        "id": "ef774dec",
        "outputId": "d510a602-183f-4245-c380-042c8ea04946"
      },
      "outputs": [
        {
          "output_type": "execute_result",
          "data": {
            "text/plain": [
              "⎛ 4      2      ⎛ 2    ⎞ ⎛ 2    ⎞                      ⎛ 2           ⎞⎞\n",
              "⎝x  - 5⋅x  + 6, ⎝x  - 3⎠⋅⎝x  - 2⎠, [-√2, √2, -√3, √3], ⎝x  + x + 1, 0⎠⎠"
            ],
            "text/latex": "$\\displaystyle \\left( x^{4} - 5 x^{2} + 6, \\  \\left(x^{2} - 3\\right) \\left(x^{2} - 2\\right), \\  \\left[ - \\sqrt{2}, \\  \\sqrt{2}, \\  - \\sqrt{3}, \\  \\sqrt{3}\\right], \\  \\left( x^{2} + x + 1, \\  0\\right)\\right)$"
          },
          "metadata": {},
          "execution_count": 72
        }
      ],
      "source": [
        "\n",
        "poly = x**4 - 5*x**2 + 6\n",
        "factorizado = sp.factor(poly)\n",
        "raices = sp.solve(sp.Eq(poly, 0), x)\n",
        "div_pol = sp.div(x**3 - 1, x - 1)  # división polinómica (cociente, residuo)\n",
        "\n",
        "poly, factorizado, raices, div_pol\n"
      ]
    },
    {
      "cell_type": "markdown",
      "id": "23cde415",
      "metadata": {
        "id": "23cde415"
      },
      "source": [
        "\n",
        "## 4. Resolver ecuaciones e inecuaciones\n",
        "\n",
        "- `sp.solve` resuelve ecuaciones simbólicas.  \n",
        "- `sp.solveset` maneja conjuntos de soluciones con dominios.  \n",
        "- `sp.solve_univariate_inequality` para inecuaciones simples.\n"
      ]
    },
    {
      "cell_type": "code",
      "execution_count": 73,
      "id": "a67a3c2d",
      "metadata": {
        "colab": {
          "base_uri": "https://localhost:8080/",
          "height": 58
        },
        "id": "a67a3c2d",
        "outputId": "85057246-a629-414c-9a10-6a29d06794dc"
      },
      "outputs": [
        {
          "output_type": "execute_result",
          "data": {
            "text/plain": [
              "⎛⎡π  5⋅π⎤  ⎧        π │      ⎫   ⎧        5⋅π │      ⎫  π           5⋅π⎞\n",
              "⎜⎢─, ───⎥, ⎨2⋅n⋅π + ─ │ n ∊ ℤ⎬ ∪ ⎨2⋅n⋅π + ─── │ n ∊ ℤ⎬, ─ < x ∧ x < ───⎟\n",
              "⎝⎣6   6 ⎦  ⎩        6 │      ⎭   ⎩         6  │      ⎭  6            6 ⎠"
            ],
            "text/latex": "$\\displaystyle \\left( \\left[ \\frac{\\pi}{6}, \\  \\frac{5 \\pi}{6}\\right], \\  \\left\\{2 n \\pi + \\frac{\\pi}{6}\\; \\middle|\\; n \\in \\mathbb{Z}\\right\\} \\cup \\left\\{2 n \\pi + \\frac{5 \\pi}{6}\\; \\middle|\\; n \\in \\mathbb{Z}\\right\\}, \\  \\frac{\\pi}{6} < x \\wedge x < \\frac{5 \\pi}{6}\\right)$"
          },
          "metadata": {},
          "execution_count": 73
        }
      ],
      "source": [
        "\n",
        "sol_eq = sp.solve(sp.Eq(sp.sin(x), sp.Rational(1,2)), x)  # soluciones generales pueden requerir solveset\n",
        "sol_set = sp.solveset(sp.Eq(sp.sin(x), sp.Rational(1,2)), x, domain=sp.S.Reals)\n",
        "\n",
        "ineq = sp.solve_univariate_inequality(sp.sin(x) > sp.Rational(1,2), x)\n",
        "sol_eq, sol_set, ineq\n"
      ]
    },
    {
      "cell_type": "markdown",
      "id": "40cda3d9",
      "metadata": {
        "id": "40cda3d9"
      },
      "source": [
        "\n",
        "## 5. Cálculo: límites, derivadas e integrales\n",
        "\n",
        "SymPy puede calcular **límites**, **derivadas** e **integrales** (definidas e indefinidas).\n"
      ]
    },
    {
      "cell_type": "code",
      "execution_count": 74,
      "id": "19b2f233",
      "metadata": {
        "colab": {
          "base_uri": "https://localhost:8080/",
          "height": 58
        },
        "id": "19b2f233",
        "outputId": "16b5a90d-5a74-4c00-ab52-f25b551b59d3"
      },
      "outputs": [
        {
          "output_type": "execute_result",
          "data": {
            "text/plain": [
              "⎛       x           x            x         √π⋅erf(x)   ⎞\n",
              "⎜1, ℯ, ℯ ⋅sin(x) + ℯ ⋅cos(x), 2⋅ℯ ⋅cos(x), ─────────, 2⎟\n",
              "⎝                                              2       ⎠"
            ],
            "text/latex": "$\\displaystyle \\left( 1, \\  e, \\  e^{x} \\sin{\\left(x \\right)} + e^{x} \\cos{\\left(x \\right)}, \\  2 e^{x} \\cos{\\left(x \\right)}, \\  \\frac{\\sqrt{\\pi} \\operatorname{erf}{\\left(x \\right)}}{2}, \\  2\\right)$"
          },
          "metadata": {},
          "execution_count": 74
        }
      ],
      "source": [
        "\n",
        "# Límites\n",
        "lim1 = sp.limit(sp.sin(x)/x, x, 0)\n",
        "lim2 = sp.limit((1+x)**(1/x), x, 0)\n",
        "\n",
        "# Derivadas\n",
        "f = sp.exp(x)*sp.sin(x)\n",
        "df = sp.diff(f, x)\n",
        "d2f = sp.diff(f, x, 2)\n",
        "\n",
        "# Integrales\n",
        "int_ind = sp.integrate(sp.exp(-x**2), (x))        # integral indefinida (no elemental)\n",
        "int_def = sp.integrate(sp.sin(x), (x, 0, sp.pi))  # integral definida\n",
        "\n",
        "lim1, lim2, df, d2f, int_ind, int_def\n"
      ]
    },
    {
      "cell_type": "markdown",
      "id": "e19c24bf",
      "metadata": {
        "id": "e19c24bf"
      },
      "source": [
        "\n",
        "## 6. Series de potencias\n",
        "\n",
        "Expansión en series de potencias alrededor de un punto con `series`.\n"
      ]
    },
    {
      "cell_type": "code",
      "execution_count": 75,
      "id": "90c4afac",
      "metadata": {
        "colab": {
          "base_uri": "https://localhost:8080/",
          "height": 54
        },
        "id": "90c4afac",
        "outputId": "7fe5ead5-454f-46b7-c18f-460bc3dc134d"
      },
      "outputs": [
        {
          "output_type": "execute_result",
          "data": {
            "text/plain": [
              "     3    5         \n",
              "    x    x      ⎛ 7⎞\n",
              "x - ── + ─── + O⎝x ⎠\n",
              "    6    120        "
            ],
            "text/latex": "$\\displaystyle x - \\frac{x^{3}}{6} + \\frac{x^{5}}{120} + O\\left(x^{7}\\right)$"
          },
          "metadata": {},
          "execution_count": 75
        }
      ],
      "source": [
        "\n",
        "serie = sp.sin(x).series(x, 0, 7)  # hasta x^6\n",
        "serie\n"
      ]
    },
    {
      "cell_type": "markdown",
      "id": "056067f5",
      "metadata": {
        "id": "056067f5"
      },
      "source": [
        "\n",
        "## 7. Cálculo multivariable: gradiente, Jacobiano y Hessiano\n"
      ]
    },
    {
      "cell_type": "code",
      "execution_count": 76,
      "id": "14ba2286",
      "metadata": {
        "colab": {
          "base_uri": "https://localhost:8080/",
          "height": 58
        },
        "id": "14ba2286",
        "outputId": "0da5dc07-88b9-41a7-b459-2b7ea0f9461d"
      },
      "outputs": [
        {
          "output_type": "execute_result",
          "data": {
            "text/plain": [
              "⎛                                                                     ⎡        ↪\n",
              "⎜⎡     y                2  y             ⎤  ⎡   2⋅x          1     ⎤  ⎢      - ↪\n",
              "⎜⎣2⋅x⋅ℯ  + y⋅cos(x⋅y), x ⋅ℯ  + x⋅cos(x⋅y)⎦, ⎢                      ⎥, ⎢        ↪\n",
              "⎜                                           ⎣y⋅cos(x⋅y)  x⋅cos(x⋅y)⎦  ⎢        ↪\n",
              "⎝                                                                     ⎣-x⋅y⋅si ↪\n",
              "\n",
              "↪   2               y                              y           ⎤⎞\n",
              "↪  y ⋅sin(x⋅y) + 2⋅ℯ          -x⋅y⋅sin(x⋅y) + 2⋅x⋅ℯ  + cos(x⋅y)⎥⎟\n",
              "↪                                                              ⎥⎟\n",
              "↪               y                     2  y    2                ⎥⎟\n",
              "↪ n(x⋅y) + 2⋅x⋅ℯ  + cos(x⋅y)         x ⋅ℯ  - x ⋅sin(x⋅y)       ⎦⎠"
            ],
            "text/latex": "$\\displaystyle \\left( \\left[ 2 x e^{y} + y \\cos{\\left(x y \\right)}, \\  x^{2} e^{y} + x \\cos{\\left(x y \\right)}\\right], \\  \\left[\\begin{matrix}2 x & 1\\\\y \\cos{\\left(x y \\right)} & x \\cos{\\left(x y \\right)}\\end{matrix}\\right], \\  \\left[\\begin{matrix}- y^{2} \\sin{\\left(x y \\right)} + 2 e^{y} & - x y \\sin{\\left(x y \\right)} + 2 x e^{y} + \\cos{\\left(x y \\right)}\\\\- x y \\sin{\\left(x y \\right)} + 2 x e^{y} + \\cos{\\left(x y \\right)} & x^{2} e^{y} - x^{2} \\sin{\\left(x y \\right)}\\end{matrix}\\right]\\right)$"
          },
          "metadata": {},
          "execution_count": 76
        }
      ],
      "source": [
        "\n",
        "x, y = sp.symbols('x y', real=True)\n",
        "f = x**2 * sp.exp(y) + sp.sin(x*y)\n",
        "\n",
        "# Gradiente\n",
        "grad_f = [sp.diff(f, v) for v in (x, y)]\n",
        "\n",
        "# Jacobiano de un vector de funciones\n",
        "g1 = x**2 + y\n",
        "g2 = sp.sin(x*y)\n",
        "J = sp.Matrix([ [sp.diff(g1, x), sp.diff(g1, y)],\n",
        "                [sp.diff(g2, x), sp.diff(g2, y)] ])\n",
        "\n",
        "# Hessiano\n",
        "H = sp.hessian(f, (x, y))\n",
        "\n",
        "grad_f, J, H\n"
      ]
    },
    {
      "cell_type": "markdown",
      "id": "fd368bd2",
      "metadata": {
        "id": "fd368bd2"
      },
      "source": [
        "\n",
        "## 8. Álgebra lineal simbólica: matrices, determinantes y autovalores\n"
      ]
    },
    {
      "cell_type": "code",
      "execution_count": 77,
      "id": "60ce1f8d",
      "metadata": {
        "colab": {
          "base_uri": "https://localhost:8080/",
          "height": 197
        },
        "id": "60ce1f8d",
        "outputId": "1c980e6a-a36b-4ca3-bd78-f59749849307"
      },
      "outputs": [
        {
          "output_type": "execute_result",
          "data": {
            "text/plain": [
              "⎛                                                                              ↪\n",
              "⎜                                                                              ↪\n",
              "⎜                                                                              ↪\n",
              "⎜                                                                              ↪\n",
              "⎜                                                                              ↪\n",
              "⎜                                                                              ↪\n",
              "⎜                                                                              ↪\n",
              "⎜                                                                              ↪\n",
              "⎜                                                                              ↪\n",
              "⎜                                                                              ↪\n",
              "⎜                                                                              ↪\n",
              "⎜                                                                              ↪\n",
              "⎜                                                                              ↪\n",
              "⎜          ⎧                                          ________________________ ↪\n",
              "⎜          ⎪                                         ╱      _____________      ↪\n",
              "⎜          ⎪                                        ╱      ╱           3       ↪\n",
              "⎜          ⎪               4⋅x                     ╱      ╱        64⋅x        ↪\n",
              "⎜25 - 4⋅x, ⎪───────────────────────────────── + 3 ╱      ╱   144 - ─────  + 12 ↪\n",
              "⎜          ⎨        _________________________   ╲╱     ╲╱           27         ↪\n",
              "⎜          ⎪       ╱      _____________                                        ↪\n",
              "⎜          ⎪      ╱      ╱           3                                         ↪\n",
              "⎜          ⎪     ╱      ╱        64⋅x                                          ↪\n",
              "⎜          ⎪3⋅3 ╱      ╱   144 - ─────  + 12                                   ↪\n",
              "⎜          ⎩  ╲╱     ╲╱           27                                           ↪\n",
              "⎜                                                                              ↪\n",
              "⎜                                                                              ↪\n",
              "⎜                                                                              ↪\n",
              "⎜                                                                              ↪\n",
              "⎜                                                                              ↪\n",
              "⎜                                                                              ↪\n",
              "⎜                                                                              ↪\n",
              "⎜                                                                              ↪\n",
              "⎜                                                                              ↪\n",
              "⎜                                                                              ↪\n",
              "⎝                                                                              ↪\n",
              "\n",
              "↪                                                                              ↪\n",
              "↪                                                                              ↪\n",
              "↪                                                                              ↪\n",
              "↪                                                                              ↪\n",
              "↪                                                                              ↪\n",
              "↪                                                                              ↪\n",
              "↪                                                                              ↪\n",
              "↪                                                                              ↪\n",
              "↪                                                                              ↪\n",
              "↪                                                                              ↪\n",
              "↪                                                                              ↪\n",
              "↪                                                                              ↪\n",
              "↪                                                                              ↪\n",
              "↪ _                                                                            ↪\n",
              "↪                                                                              ↪\n",
              "↪                                                                              ↪\n",
              "↪                                4⋅x                         ⎛  1   √3⋅ⅈ⎞    ╱ ↪\n",
              "↪   + 1: 1, ────────────────────────────────────────────── + ⎜- ─ - ────⎟⋅3 ╱  ↪\n",
              "↪                                _________________________   ⎝  2    2  ⎠ ╲╱   ↪\n",
              "↪                               ╱      _____________                           ↪\n",
              "↪                              ╱      ╱           3                            ↪\n",
              "↪             ⎛  1   √3⋅ⅈ⎞    ╱      ╱        64⋅x                             ↪\n",
              "↪           3⋅⎜- ─ - ────⎟⋅3 ╱      ╱   144 - ─────  + 12                      ↪\n",
              "↪             ⎝  2    2  ⎠ ╲╱     ╲╱           27                              ↪\n",
              "↪                                                                              ↪\n",
              "↪                                                                              ↪\n",
              "↪                                                                              ↪\n",
              "↪                                                                              ↪\n",
              "↪                                                                              ↪\n",
              "↪                                                                              ↪\n",
              "↪                                                                              ↪\n",
              "↪                                                                              ↪\n",
              "↪                                                                              ↪\n",
              "↪                                                                              ↪\n",
              "↪                                                                              ↪\n",
              "\n",
              "↪                                                                              ↪\n",
              "↪                                                                              ↪\n",
              "↪                                                                              ↪\n",
              "↪                                                                              ↪\n",
              "↪                                                                              ↪\n",
              "↪                                                                              ↪\n",
              "↪                                                                              ↪\n",
              "↪                                                                              ↪\n",
              "↪                                                                              ↪\n",
              "↪                                                                              ↪\n",
              "↪                                                                              ↪\n",
              "↪                                                                              ↪\n",
              "↪                                                                              ↪\n",
              "↪   _________________________                                                  ↪\n",
              "↪  ╱      _____________                                                        ↪\n",
              "↪ ╱      ╱           3                                                         ↪\n",
              "↪       ╱        64⋅x                                      4⋅x                 ↪\n",
              "↪      ╱   144 - ─────  + 12  + 1: 1, ──────────────────────────────────────── ↪\n",
              "↪    ╲╱           27                                       ___________________ ↪\n",
              "↪                                                         ╱      _____________ ↪\n",
              "↪                                                        ╱      ╱           3  ↪\n",
              "↪                                       ⎛  1   √3⋅ⅈ⎞    ╱      ╱        64⋅x   ↪\n",
              "↪                                     3⋅⎜- ─ + ────⎟⋅3 ╱      ╱   144 - ─────  ↪\n",
              "↪                                       ⎝  2    2  ⎠ ╲╱     ╲╱           27    ↪\n",
              "↪                                                                              ↪\n",
              "↪                                                                              ↪\n",
              "↪                                                                              ↪\n",
              "↪                                                                              ↪\n",
              "↪                                                                              ↪\n",
              "↪                                                                              ↪\n",
              "↪                                                                              ↪\n",
              "↪                                                                              ↪\n",
              "↪                                                                              ↪\n",
              "↪                                                                              ↪\n",
              "↪                                                                              ↪\n",
              "\n",
              "↪                                                                ⎡⎛            ↪\n",
              "↪                                                                ⎢⎜            ↪\n",
              "↪                                                                ⎢⎜            ↪\n",
              "↪                                                                ⎢⎜            ↪\n",
              "↪                                                                ⎢⎜            ↪\n",
              "↪                                                                ⎢⎜            ↪\n",
              "↪                                                                ⎢⎜            ↪\n",
              "↪                                                                ⎢⎜            ↪\n",
              "↪                                                                ⎢⎜            ↪\n",
              "↪                                                                ⎢⎜            ↪\n",
              "↪                                                                ⎢⎜            ↪\n",
              "↪                                                                ⎢⎜            ↪\n",
              "↪                                                                ⎢⎜            ↪\n",
              "↪                             _________________________       ⎫  ⎢⎜            ↪\n",
              "↪                            ╱      _____________             ⎪  ⎢⎜            ↪\n",
              "↪                           ╱      ╱           3              ⎪  ⎢⎜            ↪\n",
              "↪          ⎛  1   √3⋅ⅈ⎞    ╱      ╱        64⋅x               ⎪  ⎢⎜            ↪\n",
              "↪ ────── + ⎜- ─ + ────⎟⋅3 ╱      ╱   144 - ─────  + 12  + 1: 1⎪, ⎢⎜─────────── ↪\n",
              "↪ ______   ⎝  2    2  ⎠ ╲╱     ╲╱           27                ⎬  ⎢⎜        ___ ↪\n",
              "↪                                                             ⎪  ⎢⎜       ╱    ↪\n",
              "↪                                                             ⎪  ⎢⎜      ╱     ↪\n",
              "↪                                                             ⎪  ⎢⎜     ╱      ↪\n",
              "↪  + 12                                                       ⎪  ⎢⎜3⋅3 ╱       ↪\n",
              "↪                                                             ⎭  ⎢⎜  ╲╱     ╲╱ ↪\n",
              "↪                                                                ⎢⎜            ↪\n",
              "↪                                                                ⎢⎜            ↪\n",
              "↪                                                                ⎢⎜            ↪\n",
              "↪                                                                ⎢⎜            ↪\n",
              "↪                                                                ⎢⎜            ↪\n",
              "↪                                                                ⎢⎜            ↪\n",
              "↪                                                                ⎢⎜            ↪\n",
              "↪                                                                ⎢⎜            ↪\n",
              "↪                                                                ⎢⎜            ↪\n",
              "↪                                                                ⎢⎜            ↪\n",
              "↪                                                                ⎣⎝            ↪\n",
              "\n",
              "↪                                                                  ⎡⎡          ↪\n",
              "↪                                                                  ⎢⎢          ↪\n",
              "↪                                                                  ⎢⎢          ↪\n",
              "↪                                                                  ⎢⎢          ↪\n",
              "↪                                                                  ⎢⎢          ↪\n",
              "↪                                                                  ⎢⎢          ↪\n",
              "↪                                                                  ⎢⎢          ↪\n",
              "↪                                                                  ⎢⎢          ↪\n",
              "↪                                                                  ⎢⎢          ↪\n",
              "↪                                                                  ⎢⎢          ↪\n",
              "↪                                                                  ⎢⎢          ↪\n",
              "↪                                                                  ⎢⎢          ↪\n",
              "↪                                                                  ⎢⎢          ↪\n",
              "↪                                _________________________         ⎢⎢          ↪\n",
              "↪                               ╱      _____________               ⎢⎢          ↪\n",
              "↪                              ╱      ╱           3                ⎢⎢          ↪\n",
              "↪     4⋅x                     ╱      ╱        64⋅x                 ⎢⎢          ↪\n",
              "↪ ────────────────────── + 3 ╱      ╱   144 - ─────  + 12  + 1, 1, ⎢⎢          ↪\n",
              "↪ ______________________   ╲╱     ╲╱           27                  ⎢⎢          ↪\n",
              "↪    _____________                                                 ⎢⎢          ↪\n",
              "↪   ╱           3                                                  ⎢⎢          ↪\n",
              "↪  ╱        64⋅x                                                   ⎢⎢          ↪\n",
              "↪ ╱   144 - ─────  + 12                                            ⎢⎢          ↪\n",
              "↪            27                                                    ⎢⎢          ↪\n",
              "↪                                                                  ⎢⎢          ↪\n",
              "↪                                                                  ⎢⎢  x       ↪\n",
              "↪                                                                  ⎢⎢- ─ - ─── ↪\n",
              "↪                                                                  ⎢⎢  2       ↪\n",
              "↪                                                                  ⎢⎢          ↪\n",
              "↪                                                                  ⎢⎢          ↪\n",
              "↪                                                                  ⎢⎢          ↪\n",
              "↪                                                                  ⎢⎢      3⋅3 ↪\n",
              "↪                                                                  ⎢⎢        ╲ ↪\n",
              "↪                                                                  ⎢⎢          ↪\n",
              "↪                                                                  ⎣⎣          ↪\n",
              "\n",
              "↪                                                                              ↪\n",
              "↪                                                                            ╱ ↪\n",
              "↪                                                                           ╱  ↪\n",
              "↪                                                                          ╱   ↪\n",
              "↪                                                                       3 ╱    ↪\n",
              "↪                                                   x                   ╲╱     ↪\n",
              "↪                                   ───────────────────────────────── + ────── ↪\n",
              "↪                                           _________________________          ↪\n",
              "↪                                          ╱      _____________                ↪\n",
              "↪                                         ╱      ╱           3                 ↪\n",
              "↪                                        ╱      ╱        64⋅x                  ↪\n",
              "↪                                   3⋅3 ╱      ╱   144 - ─────  + 12           ↪\n",
              "↪                                     ╲╱     ╲╱           27                   ↪\n",
              "↪                                                                              ↪\n",
              "↪                                                                              ↪\n",
              "↪                                                                    ⎛         ↪\n",
              "↪                                                                    ⎜         ↪\n",
              "↪                                                                    ⎜         ↪\n",
              "↪                                                                    ⎜         ↪\n",
              "↪                                                                    ⎜──────── ↪\n",
              "↪                                        _________________________   ⎜         ↪\n",
              "↪                                       ╱      _____________         ⎜       ╱ ↪\n",
              "↪                                      ╱      ╱           3          ⎜      ╱  ↪\n",
              "↪                                     ╱      ╱        64⋅x           ⎜     ╱   ↪\n",
              "↪                                  3 ╱      ╱   144 - ─────  + 12    ⎜3⋅3 ╱    ↪\n",
              "↪              x                   ╲╱     ╲╱           27            ⎝  ╲╱     ↪\n",
              "↪ ────────────────────────────── - ─────────────────────────────── + ───────── ↪\n",
              "↪      _________________________                  4                            ↪\n",
              "↪     ╱      _____________                                                     ↪\n",
              "↪    ╱      ╱           3                                                      ↪\n",
              "↪   ╱      ╱        64⋅x                                                       ↪\n",
              "↪  ╱      ╱   144 - ─────  + 12                                                ↪\n",
              "↪ ╱     ╲╱           27                                                        ↪\n",
              "↪                                                                              ↪\n",
              "↪                                                                    1         ↪\n",
              "\n",
              "↪ _________________________                                            ⎤⎤⎞⎤⎞\n",
              "↪       _____________                                                  ⎥⎥⎟⎥⎟\n",
              "↪      ╱           3                                                   ⎥⎥⎟⎥⎟\n",
              "↪     ╱        64⋅x                                                    ⎥⎥⎟⎥⎟\n",
              "↪    ╱   144 - ─────  + 12                                             ⎥⎥⎟⎥⎟\n",
              "↪  ╲╱           27                                                     ⎥⎥⎟⎥⎟\n",
              "↪ ─────────────────────────                                            ⎥⎥⎟⎥⎟\n",
              "↪          4                                                           ⎥⎥⎟⎥⎟\n",
              "↪                                                                      ⎥⎥⎟⎥⎟\n",
              "↪                                                                      ⎥⎥⎟⎥⎟\n",
              "↪                                                                      ⎥⎥⎟⎥⎟\n",
              "↪                                                                      ⎥⎥⎟⎥⎟\n",
              "↪                                                                      ⎥⎥⎟⎥⎟\n",
              "↪                                                                      ⎥⎥⎟⎥⎟\n",
              "↪                                                                 2    ⎥⎥⎟⎥⎟\n",
              "↪                                   _________________________    ⎞     ⎥⎥⎟⎥⎟\n",
              "↪                                  ╱      _____________          ⎟     ⎥⎥⎟⎥⎟\n",
              "↪                                 ╱      ╱           3           ⎟     ⎥⎥⎟⎥⎟\n",
              "↪        4⋅x                     ╱      ╱        64⋅x            ⎟     ⎥⎥⎟⎥⎟\n",
              "↪ ───────────────────────── + 3 ╱      ╱   144 - ─────  + 12  + 1⎟     ⎥⎥⎟⎥⎟\n",
              "↪ _________________________   ╲╱     ╲╱           27             ⎟     ⎥⎥⎟⎥⎟\n",
              "↪       _____________                                            ⎟     ⎥⎥⎟⎥⎟\n",
              "↪      ╱           3                                             ⎟     ⎥⎥⎟⎥⎟\n",
              "↪     ╱        64⋅x                                              ⎟     ⎥⎥⎟⎥⎟\n",
              "↪    ╱   144 - ─────  + 12                                       ⎟     ⎥⎥⎟⎥⎟\n",
              "↪  ╲╱           27                                               ⎠    1⎥⎥⎟⎥⎟\n",
              "↪ ───────────────────────────────────────────────────────────────── - ─⎥⎥⎟⎥⎟\n",
              "↪                            8                                        8⎥⎥⎟⎥⎟\n",
              "↪                                                                      ⎥⎥⎟⎥⎟\n",
              "↪                                                                      ⎥⎥⎟⎥⎟\n",
              "↪                                                                      ⎥⎥⎟⎥⎟\n",
              "↪                                                                      ⎥⎥⎟⎥⎟\n",
              "↪                                                                      ⎥⎥⎟⎥⎟\n",
              "↪                                                                      ⎥⎥⎟⎥⎟\n",
              "↪                                                                      ⎦⎦⎠⎦⎠"
            ],
            "text/latex": "$\\displaystyle \\left( 25 - 4 x, \\  \\left\\{ \\frac{4 x}{3 \\sqrt[3]{\\sqrt{144 - \\frac{64 x^{3}}{27}} + 12}} + \\sqrt[3]{\\sqrt{144 - \\frac{64 x^{3}}{27}} + 12} + 1 : 1, \\  \\frac{4 x}{3 \\left(- \\frac{1}{2} - \\frac{\\sqrt{3} i}{2}\\right) \\sqrt[3]{\\sqrt{144 - \\frac{64 x^{3}}{27}} + 12}} + \\left(- \\frac{1}{2} - \\frac{\\sqrt{3} i}{2}\\right) \\sqrt[3]{\\sqrt{144 - \\frac{64 x^{3}}{27}} + 12} + 1 : 1, \\  \\frac{4 x}{3 \\left(- \\frac{1}{2} + \\frac{\\sqrt{3} i}{2}\\right) \\sqrt[3]{\\sqrt{144 - \\frac{64 x^{3}}{27}} + 12}} + \\left(- \\frac{1}{2} + \\frac{\\sqrt{3} i}{2}\\right) \\sqrt[3]{\\sqrt{144 - \\frac{64 x^{3}}{27}} + 12} + 1 : 1\\right\\}, \\  \\left[ \\left( \\frac{4 x}{3 \\sqrt[3]{\\sqrt{144 - \\frac{64 x^{3}}{27}} + 12}} + \\sqrt[3]{\\sqrt{144 - \\frac{64 x^{3}}{27}} + 12} + 1, \\  1, \\  \\left[ \\left[\\begin{matrix}\\frac{x}{3 \\sqrt[3]{\\sqrt{144 - \\frac{64 x^{3}}{27}} + 12}} + \\frac{\\sqrt[3]{\\sqrt{144 - \\frac{64 x^{3}}{27}} + 12}}{4}\\\\- \\frac{x}{2} - \\frac{x}{3 \\sqrt[3]{\\sqrt{144 - \\frac{64 x^{3}}{27}} + 12}} - \\frac{\\sqrt[3]{\\sqrt{144 - \\frac{64 x^{3}}{27}} + 12}}{4} + \\frac{\\left(\\frac{4 x}{3 \\sqrt[3]{\\sqrt{144 - \\frac{64 x^{3}}{27}} + 12}} + \\sqrt[3]{\\sqrt{144 - \\frac{64 x^{3}}{27}} + 12} + 1\\right)^{2}}{8} - \\frac{1}{8}\\\\1\\end{matrix}\\right]\\right]\\right)\\right]\\right)$"
          },
          "metadata": {},
          "execution_count": 77
        }
      ],
      "source": [
        "\n",
        "A = sp.Matrix([[1, 2, x],\n",
        "               [0, 1, 3],\n",
        "               [4, 0, 1]])\n",
        "\n",
        "detA = A.det()\n",
        "evals = A.eigenvals()      # autovalores (diccionario: valor -> multiplicidad)\n",
        "evecs = A.eigenvects()     # autovectores\n",
        "\n",
        "detA, evals, evecs[:1]  # muestra parcial\n"
      ]
    },
    {
      "cell_type": "markdown",
      "id": "a7262fe1",
      "metadata": {
        "id": "a7262fe1"
      },
      "source": [
        "\n",
        "## 9. Ecuaciones diferenciales ordinarias (EDO)\n",
        "\n",
        "`dsolve` resuelve EDOs simbólicas, lineales y no lineales en muchos casos.\n"
      ]
    },
    {
      "cell_type": "code",
      "execution_count": 78,
      "id": "15282920",
      "metadata": {
        "colab": {
          "base_uri": "https://localhost:8080/",
          "height": 39
        },
        "id": "15282920",
        "outputId": "69657866-266d-48de-baa4-30550be3d034"
      },
      "outputs": [
        {
          "output_type": "execute_result",
          "data": {
            "text/plain": [
              "       ⎛         -t    ⎞  -t\n",
              "y(t) = ⎝C₁ + C₂⋅ℯ   + t⎠⋅ℯ  "
            ],
            "text/latex": "$\\displaystyle y{\\left(t \\right)} = \\left(C_{1} + C_{2} e^{- t} + t\\right) e^{- t}$"
          },
          "metadata": {},
          "execution_count": 78
        }
      ],
      "source": [
        "\n",
        "t = sp.symbols('t')\n",
        "y = sp.Function('y')\n",
        "\n",
        "edo = sp.Eq(sp.diff(y(t), t, 2) + 3*sp.diff(y(t), t) + 2*y(t), sp.exp(-t))\n",
        "sol_edo = sp.dsolve(edo)\n",
        "sol_edo\n"
      ]
    },
    {
      "cell_type": "code",
      "execution_count": 79,
      "id": "9d00d7ce",
      "metadata": {
        "colab": {
          "base_uri": "https://localhost:8080/",
          "height": 39
        },
        "id": "9d00d7ce",
        "outputId": "7137bb49-87fd-4225-8f8d-d03f53d03be6"
      },
      "outputs": [
        {
          "output_type": "execute_result",
          "data": {
            "text/plain": [
              "        t\n",
              "y(t) = ℯ "
            ],
            "text/latex": "$\\displaystyle y{\\left(t \\right)} = e^{t}$"
          },
          "metadata": {},
          "execution_count": 79
        }
      ],
      "source": [
        "\n",
        "# EDO con condiciones iniciales\n",
        "edo_ci = sp.Eq(sp.diff(y(t), t) - y(t), 0)\n",
        "sol_ci = sp.dsolve(edo_ci, ics={y(0): 1})\n",
        "sol_ci\n"
      ]
    },
    {
      "cell_type": "markdown",
      "id": "66f60431",
      "metadata": {
        "id": "66f60431"
      },
      "source": [
        "\n",
        "## 10. (Breve) PDE: operadores y verificación simbólica\n",
        "\n",
        "SymPy no resuelve PDE generales automáticamente, pero es útil para **manipular/chequear**\n",
        "formas de soluciones (por ejemplo, separación de variables) y **operadores** como gradiente, divergencia y Laplaciano.\n"
      ]
    },
    {
      "cell_type": "code",
      "execution_count": 80,
      "id": "cf5d8abf",
      "metadata": {
        "colab": {
          "base_uri": "https://localhost:8080/",
          "height": 57
        },
        "id": "cf5d8abf",
        "outputId": "5a7e03e7-1563-4599-d924-7bbb12e42446"
      },
      "outputs": [
        {
          "output_type": "execute_result",
          "data": {
            "text/plain": [
              " 2              2          \n",
              "∂              ∂           \n",
              "───(u(x, y)) + ───(u(x, y))\n",
              "  2              2         \n",
              "∂x             ∂y          "
            ],
            "text/latex": "$\\displaystyle \\frac{\\partial^{2}}{\\partial x^{2}} u{\\left(x,y \\right)} + \\frac{\\partial^{2}}{\\partial y^{2}} u{\\left(x,y \\right)}$"
          },
          "metadata": {},
          "execution_count": 80
        }
      ],
      "source": [
        "\n",
        "# Declarar variables *como símbolos*\n",
        "x, y = sp.symbols('x y', real=True)\n",
        "\n",
        "# Declarar una función escalar u(x,y)\n",
        "u = sp.Function('u')\n",
        "\n",
        "# Laplaciano en 2D: u_xx + u_yy\n",
        "laplaciano = sp.diff(u(x, y), x, 2) + sp.diff(u(x, y), y, 2)\n",
        "laplaciano"
      ]
    },
    {
      "cell_type": "code",
      "source": [
        "from sympy.vector import CoordSys3D, laplacian\n",
        "\n",
        "R = CoordSys3D('R')\n",
        "x, y = sp.symbols('x y', real=True)\n",
        "u = sp.Function('u')\n",
        "\n",
        "# En 2D cartesiano (ignora z)\n",
        "expr = u(x, y)\n",
        "lap_expr = sp.diff(expr, x, 2) + sp.diff(expr, y, 2)  # equivalente en 2D\n",
        "lap_expr"
      ],
      "metadata": {
        "colab": {
          "base_uri": "https://localhost:8080/",
          "height": 57
        },
        "id": "flS-xBA3i_zc",
        "outputId": "c451b95e-e7ab-48fb-bd80-ecd616c3ee7c"
      },
      "id": "flS-xBA3i_zc",
      "execution_count": 81,
      "outputs": [
        {
          "output_type": "execute_result",
          "data": {
            "text/plain": [
              " 2              2          \n",
              "∂              ∂           \n",
              "───(u(x, y)) + ───(u(x, y))\n",
              "  2              2         \n",
              "∂x             ∂y          "
            ],
            "text/latex": "$\\displaystyle \\frac{\\partial^{2}}{\\partial x^{2}} u{\\left(x,y \\right)} + \\frac{\\partial^{2}}{\\partial y^{2}} u{\\left(x,y \\right)}$"
          },
          "metadata": {},
          "execution_count": 81
        }
      ]
    },
    {
      "cell_type": "markdown",
      "id": "a66b8f46",
      "metadata": {
        "id": "a66b8f46"
      },
      "source": [
        "\n",
        "## 11. Funciones por tramos (Piecewise) e inequaciones simbólicas\n"
      ]
    },
    {
      "cell_type": "code",
      "execution_count": 82,
      "id": "d3171bb7",
      "metadata": {
        "colab": {
          "base_uri": "https://localhost:8080/",
          "height": 68
        },
        "id": "d3171bb7",
        "outputId": "133f1e7c-da4c-43e6-a7a0-7cdecde4c650"
      },
      "outputs": [
        {
          "output_type": "execute_result",
          "data": {
            "text/plain": [
              "⎧2⋅x  for x < 0\n",
              "⎨              \n",
              "⎩ 1   otherwise"
            ],
            "text/latex": "$\\displaystyle \\begin{cases} 2 x & \\text{for}\\: x < 0 \\\\1 & \\text{otherwise} \\end{cases}$"
          },
          "metadata": {},
          "execution_count": 82
        }
      ],
      "source": [
        "\n",
        "pw = sp.Piecewise((x**2, x < 0), (x, True))\n",
        "# Derivada simbólica de una función por tramos\n",
        "sp.diff(pw, x)\n"
      ]
    },
    {
      "cell_type": "markdown",
      "id": "094d93e5",
      "metadata": {
        "id": "094d93e5"
      },
      "source": [
        "\n",
        "## 12. Transformadas de Laplace y Fourier (básico)\n"
      ]
    },
    {
      "cell_type": "code",
      "execution_count": 83,
      "id": "635dd663",
      "metadata": {
        "colab": {
          "base_uri": "https://localhost:8080/",
          "height": 68
        },
        "id": "635dd663",
        "outputId": "542402e9-616a-49c8-d5cc-e473dd0afe36"
      },
      "outputs": [
        {
          "output_type": "execute_result",
          "data": {
            "text/plain": [
              "⎛     3                ⎞\n",
              "⎜────────────, -2, True⎟\n",
              "⎜       2              ⎟\n",
              "⎝(s + 2)  + 9          ⎠"
            ],
            "text/latex": "$\\displaystyle \\left( \\frac{3}{\\left(s + 2\\right)^{2} + 9}, \\  -2, \\  \\text{True}\\right)$"
          },
          "metadata": {},
          "execution_count": 83
        }
      ],
      "source": [
        "\n",
        "t, s = sp.symbols('t s', positive=True)\n",
        "f = sp.exp(-2*t)*sp.sin(3*t)\n",
        "F = sp.laplace_transform(f, t, s)  # devuelve (transformada, región de convergencia, cond.)\n",
        "F\n"
      ]
    },
    {
      "cell_type": "code",
      "execution_count": 84,
      "id": "ff0ccb01",
      "metadata": {
        "colab": {
          "base_uri": "https://localhost:8080/",
          "height": 41
        },
        "id": "ff0ccb01",
        "outputId": "37e7757f-fcb4-4e3f-8e13-15ead0d13edf"
      },
      "outputs": [
        {
          "output_type": "execute_result",
          "data": {
            "text/plain": [
              "      2  2\n",
              "    -π ⋅w \n",
              "√π⋅ℯ      "
            ],
            "text/latex": "$\\displaystyle \\sqrt{\\pi} e^{- \\pi^{2} w^{2}}$"
          },
          "metadata": {},
          "execution_count": 84
        }
      ],
      "source": [
        "\n",
        "w = sp.symbols('w', real=True)\n",
        "g = sp.exp(-t**2)\n",
        "G = sp.fourier_transform(g, t, w)\n",
        "G\n"
      ]
    },
    {
      "cell_type": "markdown",
      "id": "21ad2dd1",
      "metadata": {
        "id": "21ad2dd1"
      },
      "source": [
        "\n",
        "## 13. `lambdify`: pasar de simbólico a numérico (NumPy)\n",
        "\n",
        "Convierte expresiones simbólicas en **funciones numéricas** eficientes.\n"
      ]
    },
    {
      "cell_type": "code",
      "execution_count": 85,
      "id": "630dc3b2",
      "metadata": {
        "colab": {
          "base_uri": "https://localhost:8080/"
        },
        "id": "630dc3b2",
        "outputId": "0ccaf974-a3fa-4914-b0cc-8d25554c5d2f"
      },
      "outputs": [
        {
          "output_type": "execute_result",
          "data": {
            "text/plain": [
              "(array([-3., -2., -1.,  0.,  1.,  2.,  3.]),\n",
              " array([-1.74155925e-05, -1.66543633e-02, -3.09559876e-01,  0.00000000e+00,\n",
              "         3.09559876e-01,  1.66543633e-02,  1.74155925e-05]))"
            ]
          },
          "metadata": {},
          "execution_count": 85
        }
      ],
      "source": [
        "\n",
        "import numpy as np\n",
        "\n",
        "x = sp.symbols('x', real=True)\n",
        "expr = sp.sin(x) * sp.exp(-x**2)\n",
        "f_num = sp.lambdify(x, expr, 'numpy')\n",
        "\n",
        "xs = np.linspace(-3, 3, 7)\n",
        "ys = f_num(xs)\n",
        "xs, ys\n"
      ]
    },
    {
      "cell_type": "markdown",
      "id": "f924065d",
      "metadata": {
        "id": "f924065d"
      },
      "source": [
        "\n",
        "## 14. Gráficos rápidos\n",
        "\n",
        "Puedes graficar con `sympy.plotting.plot` o usando **matplotlib** directamente.\n",
        "> Nota: en este cuaderno evitamos fijar estilos o colores explícitos.\n"
      ]
    },
    {
      "cell_type": "code",
      "execution_count": 86,
      "id": "d89176d4",
      "metadata": {
        "colab": {
          "base_uri": "https://localhost:8080/",
          "height": 487
        },
        "id": "d89176d4",
        "outputId": "ebfcb734-1950-44d1-99ef-477a5f1fcaae"
      },
      "outputs": [
        {
          "output_type": "display_data",
          "data": {
            "text/plain": [
              "<Figure size 640x480 with 1 Axes>"
            ],
            "image/png": "[encoded data removed]"
          },
          "metadata": {}
        }
      ],
      "source": [
        "\n",
        "from sympy.plotting import plot\n",
        "\n",
        "x = sp.symbols('x', real=True)\n",
        "expr = sp.sin(x) * sp.exp(-x/5)\n",
        "\n",
        "# Esto abre una ventana interactiva en algunos entornos; en notebooks suele mostrarse inline.\n",
        "p = plot(expr, (x, -10, 10), show=True)\n"
      ]
    },
    {
      "cell_type": "code",
      "execution_count": 87,
      "id": "8d0b76a6",
      "metadata": {
        "colab": {
          "base_uri": "https://localhost:8080/",
          "height": 472
        },
        "id": "8d0b76a6",
        "outputId": "3cb355fc-411d-4337-f0b4-fd8e701b1899"
      },
      "outputs": [
        {
          "output_type": "display_data",
          "data": {
            "text/plain": [
              "<Figure size 640x480 with 1 Axes>"
            ],
            "image/png": "[encoded data removed]"
          },
          "metadata": {}
        }
      ],
      "source": [
        "\n",
        "# Alternativa con matplotlib\n",
        "import numpy as np\n",
        "import matplotlib.pyplot as plt\n",
        "xs = np.linspace(-10, 10, 400)\n",
        "ys = f_num(xs)\n",
        "\n",
        "plt.figure()\n",
        "plt.plot(xs, ys)\n",
        "plt.title(\"sin(x) * exp(-x**2)\")\n",
        "plt.xlabel(\"x\")\n",
        "plt.ylabel(\"f(x)\")\n",
        "plt.show()\n"
      ]
    },
    {
      "cell_type": "markdown",
      "id": "6e3cd4fd",
      "metadata": {
        "id": "6e3cd4fd"
      },
      "source": [
        "\n",
        "## 15. Aritmética exacta, racionalización y precisión\n",
        "\n",
        "- `Rational` para fracciones exactas.  \n",
        "- `nsimplify` para aproximar con números racion ales/algebraicos.  \n",
        "- Control de precisión con `evalf(n)`.\n"
      ]
    },
    {
      "cell_type": "code",
      "execution_count": 88,
      "id": "171667ce",
      "metadata": {
        "colab": {
          "base_uri": "https://localhost:8080/",
          "height": 58
        },
        "id": "171667ce",
        "outputId": "b6ac2d34-c3c7-4cd1-caa0-ab096788a470"
      },
      "outputs": [
        {
          "output_type": "execute_result",
          "data": {
            "text/plain": [
              "⎛6283185307  355                     ⎞\n",
              "⎜──────────, ───, 2.66764189404967e-7⎟\n",
              "⎝2000000000  113                     ⎠"
            ],
            "text/latex": "$\\displaystyle \\left( \\frac{6283185307}{2000000000}, \\  \\frac{355}{113}, \\  2.66764189404967 \\cdot 10^{-7}\\right)$"
          },
          "metadata": {},
          "execution_count": 88
        }
      ],
      "source": [
        "\n",
        "val = sp.nsimplify(3.1415926535)   # aproxima a una expresión \"simple\"\n",
        "rat = sp.Rational(355, 113)        # aproximación clásica de pi\n",
        "diff = abs(sp.N(sp.pi) - rat)\n",
        "val, rat, diff\n"
      ]
    },
    {
      "cell_type": "markdown",
      "id": "00090d0b",
      "metadata": {
        "id": "00090d0b"
      },
      "source": [
        "\n",
        "## 16. `sympify` y análisis de cadenas\n",
        "\n",
        "Convierte cadenas a expresiones simbólicas de forma segura.\n"
      ]
    },
    {
      "cell_type": "code",
      "execution_count": 89,
      "id": "8ccbf7fe",
      "metadata": {
        "colab": {
          "base_uri": "https://localhost:8080/",
          "height": 39
        },
        "id": "8ccbf7fe",
        "outputId": "d28721c6-922b-4cd4-94f2-afe1ef752de5"
      },
      "outputs": [
        {
          "output_type": "execute_result",
          "data": {
            "text/plain": [
              "⎛   2         2      ⎞\n",
              "⎝sin (x) + cos (x), 1⎠"
            ],
            "text/latex": "$\\displaystyle \\left( \\sin^{2}{\\left(x \\right)} + \\cos^{2}{\\left(x \\right)}, \\  1\\right)$"
          },
          "metadata": {},
          "execution_count": 89
        }
      ],
      "source": [
        "\n",
        "expr_str = \"sin(x)**2 + cos(x)**2\"\n",
        "expr = sp.sympify(expr_str)\n",
        "expr, sp.simplify(expr)\n"
      ]
    },
    {
      "cell_type": "markdown",
      "id": "0a5f75ff",
      "metadata": {
        "id": "0a5f75ff"
      },
      "source": [
        "\n",
        "## 17. Sistemas de ecuaciones (no lineales)\n"
      ]
    },
    {
      "cell_type": "code",
      "execution_count": 90,
      "id": "8b852114",
      "metadata": {
        "colab": {
          "base_uri": "https://localhost:8080/",
          "height": 37
        },
        "id": "8b852114",
        "outputId": "3b77a6a3-9496-4a2f-bc6e-ef9f65ac6fef"
      },
      "outputs": [
        {
          "output_type": "execute_result",
          "data": {
            "text/plain": [
              "[(-3, -4), (2, 1)]"
            ],
            "text/latex": "$\\displaystyle \\left[ \\left( -3, \\  -4\\right), \\  \\left( 2, \\  1\\right)\\right]$"
          },
          "metadata": {},
          "execution_count": 90
        }
      ],
      "source": [
        "\n",
        "x, y = sp.symbols('x y', real=True)\n",
        "sol_sist = sp.solve((sp.Eq(x**2 + y, 5), sp.Eq(x - y, 1)), (x, y))\n",
        "sol_sist\n"
      ]
    },
    {
      "cell_type": "markdown",
      "id": "9113775a",
      "metadata": {
        "id": "9113775a"
      },
      "source": [
        "\n",
        "## 18. Conjuntos e intervalos simbólicos\n"
      ]
    },
    {
      "cell_type": "code",
      "execution_count": 91,
      "id": "60604d7c",
      "metadata": {
        "colab": {
          "base_uri": "https://localhost:8080/",
          "height": 37
        },
        "id": "60604d7c",
        "outputId": "64a844e8-7d82-48a9-a58c-ccc49a1d26c3"
      },
      "outputs": [
        {
          "output_type": "execute_result",
          "data": {
            "text/plain": [
              "([0, 3], [1, 2])"
            ],
            "text/latex": "$\\displaystyle \\left( \\left[0, 3\\right], \\  \\left[1, 2\\right]\\right)$"
          },
          "metadata": {},
          "execution_count": 91
        }
      ],
      "source": [
        "\n",
        "A = sp.Interval(0, 2)\n",
        "B = sp.Interval(1, 3)\n",
        "A_union_B = A.union(B)\n",
        "A_inter_B = A.intersect(B)\n",
        "A_union_B, A_inter_B\n"
      ]
    },
    {
      "cell_type": "markdown",
      "id": "85244169",
      "metadata": {
        "id": "85244169"
      },
      "source": [
        "\n",
        "## 19. (Opcional) Unidades físicas con `sympy.physics.units`\n"
      ]
    },
    {
      "cell_type": "code",
      "execution_count": 92,
      "id": "7d109c4e",
      "metadata": {
        "colab": {
          "base_uri": "https://localhost:8080/",
          "height": 51
        },
        "id": "7d109c4e",
        "outputId": "2d542dce-7da9-4263-fc39-970a9d29a9e3"
      },
      "outputs": [
        {
          "output_type": "execute_result",
          "data": {
            "text/plain": [
              "5⋅meter \n",
              "────────\n",
              "2⋅second"
            ],
            "text/latex": "$\\displaystyle \\frac{5 \\text{m}}{2 \\text{s}}$"
          },
          "metadata": {},
          "execution_count": 92
        }
      ],
      "source": [
        "\n",
        "from sympy.physics import units as u\n",
        "\n",
        "dist = 5 * u.meter\n",
        "time = 2 * u.second\n",
        "vel = dist / time\n",
        "vel.simplify()\n"
      ]
    },
    {
      "cell_type": "markdown",
      "id": "678a24de",
      "metadata": {
        "id": "678a24de"
      },
      "source": [
        "\n",
        "## 20. Consejos y buenas prácticas\n",
        "\n",
        "- Usa **suposiciones** para guiar simplificaciones (por ejemplo, `positive=True`).  \n",
        "- Prefiere **símbolos** y **expresiones exactas** (`Rational`) cuando busques resultados simbólicos.  \n",
        "- Para desempeño numérico, emplea `lambdify` con **NumPy**.  \n",
        "- Verifica resultados con casos de prueba y límites conocidos.  \n",
        "- Imprime en **LaTeX** para documentación reproducible.  \n",
        "\n",
        "*Última actualización:* 2025-08-31 18:42\n"
      ]
    }
  ],
  "metadata": {
    "colab": {
      "provenance": [],
      "include_colab_link": true
    },
    "language_info": {
      "name": "python"
    },
    "kernelspec": {
      "name": "python3",
      "display_name": "Python 3"
    }
  },
  "nbformat": 4,
  "nbformat_minor": 5
}